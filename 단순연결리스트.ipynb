{
 "cells": [
  {
   "cell_type": "markdown",
   "metadata": {},
   "source": [
    "# 단순연결리스트"
   ]
  },
  {
   "cell_type": "markdown",
   "metadata": {},
   "source": [
    "## 1. 노드의 생성\n",
    "### 클래스라는 문법을 사용하여 Node 데이터형 정의"
   ]
  },
  {
   "cell_type": "markdown",
   "metadata": {},
   "source": [
    "### 노드의 생성"
   ]
  },
  {
   "cell_type": "code",
   "execution_count": 1,
   "metadata": {},
   "outputs": [],
   "source": [
    "class Node():\n",
    "    def __init__(self):\n",
    "        self.data= None\n",
    "        self.link= None"
   ]
  },
  {
   "cell_type": "code",
   "execution_count": 2,
   "metadata": {},
   "outputs": [],
   "source": [
    "node1 = Node(); node1.data = \"소위\"\n",
    "node2 = Node(); node2.data = \"중위\" ; node1.link = node2\n",
    "node3 = Node(); node3.data = \"대위\" ; node2.link = node3"
   ]
  },
  {
   "cell_type": "markdown",
   "metadata": {},
   "source": [
    "### 노드 전체출력하기"
   ]
  },
  {
   "cell_type": "code",
   "execution_count": 3,
   "metadata": {},
   "outputs": [
    {
     "name": "stdout",
     "output_type": "stream",
     "text": [
      "소위중위대위\n"
     ]
    }
   ],
   "source": [
    "All = node1\n",
    "print(All.data, end='')\n",
    "while All.link != None:\n",
    "    All = All.link\n",
    "    print(All.data, end='')\n",
    "print()"
   ]
  },
  {
   "cell_type": "markdown",
   "metadata": {},
   "source": [
    "### 노드 중간에 노드 삽입하기 "
   ]
  },
  {
   "cell_type": "code",
   "execution_count": 4,
   "metadata": {},
   "outputs": [],
   "source": [
    "newNode1 = Node(); newNode1.data = \"짬중위\"\n",
    "newNode1.link = node3\n",
    "node2.link = newNode1"
   ]
  },
  {
   "cell_type": "code",
   "execution_count": 5,
   "metadata": {},
   "outputs": [
    {
     "name": "stdout",
     "output_type": "stream",
     "text": [
      "Node data: 소위, Node link: <__main__.Node object at 0x102d54a30>\n",
      "Node data: 중위, Node link: <__main__.Node object at 0x102d54ac0>\n",
      "Node data: 짬중위, Node link: <__main__.Node object at 0x102d547f0>\n",
      "Node data: 대위, Node link: None\n"
     ]
    }
   ],
   "source": [
    "# 모든 노드의 연결 상태를 확인하는 디버깅 코드\n",
    "current = node1\n",
    "while current is not None:\n",
    "    print(f\"Node data: {current.data}, Node link: {current.link}\")\n",
    "    current = current.link"
   ]
  },
  {
   "cell_type": "code",
   "execution_count": 6,
   "metadata": {},
   "outputs": [
    {
     "name": "stdout",
     "output_type": "stream",
     "text": [
      "소위중위짬중위대위\n"
     ]
    }
   ],
   "source": [
    "All = node1\n",
    "print(All.data, end='')\n",
    "while All.link != None:\n",
    "    All = All.link\n",
    "    print(All.data, end='')\n",
    "print()"
   ]
  },
  {
   "cell_type": "markdown",
   "metadata": {},
   "source": [
    "### 중간에 있는 노드 삭제하기"
   ]
  },
  {
   "cell_type": "code",
   "execution_count": 7,
   "metadata": {},
   "outputs": [],
   "source": [
    "node2.link = node3\n",
    "del(newNode1)"
   ]
  },
  {
   "cell_type": "code",
   "execution_count": 8,
   "metadata": {},
   "outputs": [
    {
     "name": "stdout",
     "output_type": "stream",
     "text": [
      "소위중위대위\n"
     ]
    }
   ],
   "source": [
    "All = node1\n",
    "print(All.data, end='')\n",
    "while All.link != None:\n",
    "    All = All.link\n",
    "    print(All.data, end='')\n",
    "print()"
   ]
  }
 ],
 "metadata": {
  "kernelspec": {
   "display_name": ".venv",
   "language": "python",
   "name": "python3"
  },
  "language_info": {
   "codemirror_mode": {
    "name": "ipython",
    "version": 3
   },
   "file_extension": ".py",
   "mimetype": "text/x-python",
   "name": "python",
   "nbconvert_exporter": "python",
   "pygments_lexer": "ipython3",
   "version": "3.9.6"
  }
 },
 "nbformat": 4,
 "nbformat_minor": 2
}
