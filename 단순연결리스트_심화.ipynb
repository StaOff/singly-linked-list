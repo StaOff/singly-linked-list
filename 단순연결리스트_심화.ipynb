{
 "cells": [
  {
   "cell_type": "markdown",
   "metadata": {},
   "source": [
    "# 신장 차이를 사용하여 단순 연결리스트 생성"
   ]
  },
  {
   "cell_type": "markdown",
   "metadata": {},
   "source": [
    "### 클래스 및 함수 선언부"
   ]
  },
  {
   "cell_type": "code",
   "execution_count": 41,
   "metadata": {},
   "outputs": [],
   "source": [
    "class Node():\n",
    "    def __init__ (self) :\n",
    "        self.data = None\n",
    "        self.link = None\n",
    "\n",
    "# 출력해주는 함수\n",
    "def printNodes(start) :\n",
    "    current = start\n",
    "    if current == None :\n",
    "        return\n",
    "    print(current.data, end = '')\n",
    "    while current.link !=None:\n",
    "        current = current.link\n",
    "        print(current.data, end='')\n",
    "    print() #줄바꿈"
   ]
  },
  {
   "cell_type": "markdown",
   "metadata": {},
   "source": [
    "### <span style=\"color : red;\"> 중요함수 </span>"
   ]
  },
  {
   "cell_type": "code",
   "execution_count": 42,
   "metadata": {},
   "outputs": [],
   "source": [
    "def makeSimpleLinkedList(nameHeight) :\n",
    "    global memory, head, current, pre\n",
    "    printNodes(head)\n",
    "\n",
    "    node = Node()\n",
    "    node.data = nameHeight           # 노드 데이터가 배열임  [\"이름\", 키]\n",
    "    memory.append(node)\n",
    "    if head == None :                # 첫 노드\n",
    "        head = node\n",
    "        return\n",
    "\n",
    "    if head.data[1] > nameHeight[1] : # 키가 첫 노드 보다 작을 때\n",
    "        node.link = head              # 키 순서대로 오름차순    \n",
    "        head = node\n",
    "        return\n",
    "\n",
    "    # 중간 노드에 삽입하는 경우\n",
    "    current = head\n",
    "    while current.link != None :\n",
    "        pre = current\n",
    "        current = current.link\n",
    "        if current.data[1] > nameHeight[1]:  # 키가 현재 노드 보다 작을 때\n",
    "            pre.link = node                  # 키 순서대로 오름차순\n",
    "            node.link = current\n",
    "            return\n",
    "\n",
    "    # 입력하는 노드의 키가 제일 큰 경우\n",
    "    current.link = node\n"
   ]
  },
  {
   "cell_type": "markdown",
   "metadata": {},
   "source": [
    "### 전역 변수 선언부"
   ]
  },
  {
   "cell_type": "code",
   "execution_count": 43,
   "metadata": {},
   "outputs": [],
   "source": [
    "memory = []\n",
    "head, current, pre = None, None, None\n",
    "dataArray = [[\"1\", 180], [\"2\", 177], [\"3\", 189], [\"4\", 175], [\"5\", 179]]"
   ]
  },
  {
   "cell_type": "markdown",
   "metadata": {},
   "source": [
    "### 메인 코드부"
   ]
  },
  {
   "cell_type": "code",
   "execution_count": 44,
   "metadata": {},
   "outputs": [
    {
     "name": "stdout",
     "output_type": "stream",
     "text": [
      "['1', 180]\n",
      "['2', 177]['1', 180]\n",
      "['2', 177]['1', 180]['3', 189]\n",
      "['4', 175]['2', 177]['1', 180]['3', 189]\n",
      "['4', 175]['2', 177]['5', 179]['1', 180]['3', 189]\n"
     ]
    }
   ],
   "source": [
    "if __name__ == \"__main__\" :\n",
    "\n",
    "    for data in dataArray :\n",
    "        makeSimpleLinkedList(data)\n",
    "\n",
    "    printNodes(head)"
   ]
  }
 ],
 "metadata": {
  "kernelspec": {
   "display_name": ".venv",
   "language": "python",
   "name": "python3"
  },
  "language_info": {
   "codemirror_mode": {
    "name": "ipython",
    "version": 3
   },
   "file_extension": ".py",
   "mimetype": "text/x-python",
   "name": "python",
   "nbconvert_exporter": "python",
   "pygments_lexer": "ipython3",
   "version": "3.9.6"
  }
 },
 "nbformat": 4,
 "nbformat_minor": 2
}
